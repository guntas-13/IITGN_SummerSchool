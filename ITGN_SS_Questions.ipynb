{
  "nbformat": 4,
  "nbformat_minor": 0,
  "metadata": {
    "colab": {
      "provenance": []
    },
    "kernelspec": {
      "name": "python3",
      "display_name": "Python 3"
    },
    "language_info": {
      "name": "python"
    }
  },
  "cells": [
    {
      "cell_type": "markdown",
      "source": [
        "## **Getting Started**\n",
        "### **Instructions**\n",
        "1. Make a Copy of this Colab Notebook in your Drive. To do so:\n",
        "> * Go to the \"File\" tab in the top navigation bar.\n",
        "> * Click on \"Save a copy in Drive\".\n",
        "> * Once done, open the copied Colab for editing.\n",
        "\n",
        "2. Read the questions for each exercise by **adhering to nomenclature used**.\n",
        "3. Write your code solutions only in the designated cells (**# CODE HERE**).\n",
        "4. Run any other cells in the sequence they appear.\n"
      ],
      "metadata": {
        "id": "8HFk5Whl0CFp"
      }
    },
    {
      "cell_type": "markdown",
      "source": [
        "### **Importing Libraries**"
      ],
      "metadata": {
        "id": "clISjdjd4EK8"
      }
    },
    {
      "cell_type": "code",
      "source": [
        "import numpy as np\n",
        "import matplotlib.pyplot as plt"
      ],
      "metadata": {
        "id": "ahLL5Pij4SES"
      },
      "execution_count": null,
      "outputs": []
    },
    {
      "cell_type": "markdown",
      "source": [
        "## **NumPy Operations** - *Into the World of Dimensions*"
      ],
      "metadata": {
        "id": "ZWeQiDac1hFn"
      }
    },
    {
      "cell_type": "markdown",
      "source": [
        "In this section, we will explore different operations that we can perform using numpy efficiently:"
      ],
      "metadata": {
        "id": "AsFmkx7Y_-ei"
      }
    },
    {
      "cell_type": "markdown",
      "source": [
        "For often, while venturing into the world of High-Dimensional Data(one involving multi-dimensional arrays), we often need to summarise its entirety within few dimensions. This process is called Principal Component Analysis (PCA). We walk through the various steps involved from scratch."
      ],
      "metadata": {
        "id": "tMB9yEbPAukb"
      }
    },
    {
      "cell_type": "markdown",
      "source": [
        "Let's create a 2D Numpy Array which we'll represent as a Matrix"
      ],
      "metadata": {
        "id": "hhp5kUQGIDBo"
      }
    },
    {
      "cell_type": "markdown",
      "source": [
        "Suppose we have this 9 x 5 (N x M) Martix X, indicating that there are 5 points/vectors in 9-dimensional space:\n",
        "\\begin{equation}\n",
        "X_{N x M} =\n",
        "\\begin{bmatrix}\n",
        " 6&3&1&6&7 \\\\\n",
        " 3&9&2&2&5 \\\\\n",
        " 2&3&4&8&5 \\\\\n",
        " 4&2&5&1&2 \\\\\n",
        " 6&4&1&4&1 \\\\\n",
        " 3&0&5&0&0 \\\\\n",
        " 2&5&0&7&2 \\\\\n",
        " 6&7&5&0&8 \\\\\n",
        " 8&2&6&5&2\n",
        "\\end{bmatrix}\n",
        "\\end{equation}"
      ],
      "metadata": {
        "id": "UB2x1FLtJXe_"
      }
    },
    {
      "cell_type": "code",
      "source": [
        "X = np.array([[6, 3, 2, 4, 6, 3, 2, 6, 8], [3, 9, 3, 2, 4, 0, 5, 7, 2], [1, 2, 4, 5, 1, 5, 0, 5, 6], [6, 2, 8, 1, 4, 0, 7, 0, 5], [7, 5, 5, 2, 1, 0, 2, 8, 2]])\n",
        "print(X)"
      ],
      "metadata": {
        "id": "UwPYNVXPILkS"
      },
      "execution_count": null,
      "outputs": []
    },
    {
      "cell_type": "markdown",
      "source": [
        "Notice each vector (X<sub>i</sub>) was a **column** when represented in matrix form viz:\n",
        "\\begin{equation}\n",
        "X_i =\n",
        "\\begin{bmatrix}\n",
        " 6 \\\\\n",
        " 3 \\\\\n",
        " 2 \\\\\n",
        " 4 \\\\\n",
        " 6 \\\\\n",
        " 3 \\\\\n",
        " 2 \\\\\n",
        " 6 \\\\\n",
        " 8\n",
        "\\end{bmatrix}\n",
        "\\end{equation}\n",
        "But NumPy arrays always have Row as a Vector.<br>\n",
        "So the matrix representation would be the **transpose** of the array **X**:"
      ],
      "metadata": {
        "id": "S6UYKr2iPR9d"
      }
    },
    {
      "cell_type": "code",
      "source": [
        "print(X.T)"
      ],
      "metadata": {
        "id": "NWPj1u-QQQJc"
      },
      "execution_count": null,
      "outputs": []
    },
    {
      "cell_type": "markdown",
      "source": [
        "The first step in the PCA is to Standardise the given matrix.<br> To standardise a matrix, we replace each column vector by subtracting each column vector of the matrix from **the mean vector μ**:<br>\n",
        "\\begin{equation}\n",
        "\\mu = \\frac{\\sum_{i = 1}^{M}X_i}{M}\n",
        "\\end{equation}\n",
        "So,\n",
        "\\begin{equation}\n",
        "\\mu =\n",
        "\\frac{\n",
        "\\begin{bmatrix}\n",
        " 6 \\\\\n",
        " 3 \\\\\n",
        " 2 \\\\\n",
        " 4 \\\\\n",
        " 6 \\\\\n",
        " 3 \\\\\n",
        " 2 \\\\\n",
        " 6 \\\\\n",
        " 8\n",
        "\\end{bmatrix}\n",
        "+\n",
        "\\begin{bmatrix}\n",
        " 3 \\\\\n",
        " 9 \\\\\n",
        " 3 \\\\\n",
        " 2 \\\\\n",
        " 4 \\\\\n",
        " 0 \\\\\n",
        " 5 \\\\\n",
        " 7 \\\\\n",
        " 2\n",
        "\\end{bmatrix}\n",
        "+\n",
        "\\begin{bmatrix}\n",
        " 1 \\\\\n",
        " 2 \\\\\n",
        " 4 \\\\\n",
        " 5 \\\\\n",
        " 1 \\\\\n",
        " 5 \\\\\n",
        " 0 \\\\\n",
        " 5 \\\\\n",
        " 6\n",
        "\\end{bmatrix}\n",
        "+\n",
        "\\begin{bmatrix}\n",
        " 6 \\\\\n",
        " 2 \\\\\n",
        " 8 \\\\\n",
        " 1 \\\\\n",
        " 4 \\\\\n",
        " 0 \\\\\n",
        " 7 \\\\\n",
        " 0 \\\\\n",
        " 5\n",
        "\\end{bmatrix}\n",
        "+\n",
        "\\begin{bmatrix}\n",
        " 7 \\\\\n",
        " 5 \\\\\n",
        " 5 \\\\\n",
        " 2 \\\\\n",
        " 1 \\\\\n",
        " 0 \\\\\n",
        " 2 \\\\\n",
        " 8 \\\\\n",
        " 2\n",
        "\\end{bmatrix}}{5}\n",
        "\\end{equation}\n",
        "Hence, each new column of X is now:\n",
        "\\begin{equation}\n",
        "A_i = X_i - \\mu\n",
        "\\end{equation}\n"
      ],
      "metadata": {
        "id": "DMSsdrezMbwB"
      }
    },
    {
      "cell_type": "markdown",
      "source": [
        "### **EXERCISE 1**\n",
        "Compute the Mean Vector using np.mean() and name it **mean**"
      ],
      "metadata": {
        "id": "RPL7jtF7VtMU"
      }
    },
    {
      "cell_type": "code",
      "source": [
        "# CODE HERE"
      ],
      "metadata": {
        "id": "KsRO5eDvM6M9"
      },
      "execution_count": null,
      "outputs": []
    },
    {
      "cell_type": "markdown",
      "source": [
        "### **EXERCISE 2**\n",
        "Compute the standardised matrix X after subtracting **mean** from **X** and name it **A** and also find the shape of the A array. Notice that A is N x M matrix while in NumPy array it has the shape M x N."
      ],
      "metadata": {
        "id": "AzMGFZdQV6q2"
      }
    },
    {
      "cell_type": "code",
      "execution_count": null,
      "metadata": {
        "id": "76jruCI2z66o"
      },
      "outputs": [],
      "source": [
        "# CODE HERE"
      ]
    },
    {
      "cell_type": "markdown",
      "source": [
        "Now comes the time to compute the **Covariance Matrix** of this new matrix **A**. The covariance matrix (Σ) comes from the Matrix Multiplication of the standardised matrix and its transpose.\n",
        "\\begin{equation}\n",
        "Σ = \\frac{A.A^T}{(M - 1)}\n",
        "\\end{equation}"
      ],
      "metadata": {
        "id": "rcwR8xKDWuNH"
      }
    },
    {
      "cell_type": "markdown",
      "source": [
        "### **EXERCISE 3**\n",
        "Compute the Covariance matrix of A using numpy matrix multiplication and call it **cov**. Also find its shape.<br>\n",
        "Hint: Take care of the shape of the array and recall the matrix representation thing!"
      ],
      "metadata": {
        "id": "gCI7deP4YHsB"
      }
    },
    {
      "cell_type": "code",
      "source": [
        "# CODE HERE"
      ],
      "metadata": {
        "id": "5TJ0iSorWcas"
      },
      "execution_count": null,
      "outputs": []
    },
    {
      "cell_type": "markdown",
      "source": [
        "Last few steps involve computing the Eigenvalues and Eigenvectors of the Covariance Matrix.\n",
        "### **EXERCISE-4**\n",
        "Compute the EigenValues and EigenValues of **cov** using NumPy's Linear Algebra. Store them in **EigenValues** and **EigenVectors** named arrays."
      ],
      "metadata": {
        "id": "5ZfrdUWaZVoA"
      }
    },
    {
      "cell_type": "code",
      "source": [
        "# CODE HERE"
      ],
      "metadata": {
        "id": "UqYnT9pOdhm-"
      },
      "execution_count": null,
      "outputs": []
    },
    {
      "cell_type": "markdown",
      "source": [
        "**NOTE:** The EigenVector array returned actually has the eigenvectors as its columns rather than its rows (unlike the usual NumPy array scenario). So you need to transpose it before proceeding further."
      ],
      "metadata": {
        "id": "dHpxmMz-o0k3"
      }
    },
    {
      "cell_type": "code",
      "source": [
        "EigenVectors = EigenVectors.T\n",
        "print(EigenVectors)"
      ],
      "metadata": {
        "id": "nv1DjNKNpLiI"
      },
      "execution_count": null,
      "outputs": []
    },
    {
      "cell_type": "markdown",
      "source": [
        "The next task is to arrange the rows of the **EigenVectors** Array based upon the indices of the Eigenvalues in descending order.<br>\n",
        "Look at the following routine:"
      ],
      "metadata": {
        "id": "JGGZqDTsgwmK"
      }
    },
    {
      "cell_type": "code",
      "source": [
        "indices = np.array([3, 2, 4, 0, 1])\n",
        "arr = np.array([[1, 2, 3], [4, 5, 6], [7, 8, 9], [10, 11, 12], [13, 14, 15]])\n",
        "print(f\"The Original Array:\\n{arr}\\n\")\n",
        "print(f\"The array with Rows rearranged according to the indices:\\n{arr[indices]}\")"
      ],
      "metadata": {
        "id": "n5433ZuXhdXI"
      },
      "execution_count": null,
      "outputs": []
    },
    {
      "cell_type": "markdown",
      "source": [
        "### **EXERCISE-5**\n",
        "Arrange the Eigenvectors(the rows of the **EigenVectors** Array) corresponding to the values of the **EigenValues** Array(in descending order) following a routine similar to the above."
      ],
      "metadata": {
        "id": "9OOj3jEBgFU0"
      }
    },
    {
      "cell_type": "code",
      "source": [
        "# CODE HERE"
      ],
      "metadata": {
        "id": "gUnZihOAiUwL"
      },
      "execution_count": null,
      "outputs": []
    },
    {
      "cell_type": "markdown",
      "source": [
        "### **EXERCISE-6**\n",
        "Extract only the first **K** rows of this rearranged array and store them in an array named **W**. Also find the shape of **W**."
      ],
      "metadata": {
        "id": "sb87Gxzcjdey"
      }
    },
    {
      "cell_type": "code",
      "source": [
        "K = 2"
      ],
      "metadata": {
        "id": "5QmxQod7jt9i"
      },
      "execution_count": null,
      "outputs": []
    },
    {
      "cell_type": "code",
      "source": [
        "# CODE HERE"
      ],
      "metadata": {
        "id": "DfYK7wliju8T"
      },
      "execution_count": null,
      "outputs": []
    },
    {
      "cell_type": "markdown",
      "source": [
        "The Final Step of Dimensionality Reduction (PCA) involves the multiplication of the standardised matrix **A** with this **W** matrix:\n",
        "\\begin{equation}\n",
        "X_{new} = A_{M x N}^{T}.W_{N x K}\n",
        "\\end{equation}\n",
        "Notice that the Reduced Version of **X** is of the Dimension **M x K**. Hence we have arrived from an **N**-dimensional space to a smaller **K**-dimensional space while keeping the number of points **M** same still yet extracting the max amount of information from the original data!!"
      ],
      "metadata": {
        "id": "c1GFZqELj_iD"
      }
    },
    {
      "cell_type": "code",
      "source": [
        "X_New = A @ W.T\n",
        "print(X_New)\n",
        "print(X_New.shape)"
      ],
      "metadata": {
        "id": "_2SIRwaEqJrO"
      },
      "execution_count": null,
      "outputs": []
    },
    {
      "cell_type": "markdown",
      "source": [
        "In python, we have come from (5, 9) to (5, 2). Now we can easily plot these 5 points in 2D which initially were in 9D.\n",
        "### **EXERCISE-7**\n",
        "Plot these 5 points using MatPlotLib."
      ],
      "metadata": {
        "id": "lDdFlWK7vWYY"
      }
    },
    {
      "cell_type": "code",
      "source": [
        "# CODE HERE"
      ],
      "metadata": {
        "id": "jzvuqYFevy1R"
      },
      "execution_count": null,
      "outputs": []
    }
  ]
}