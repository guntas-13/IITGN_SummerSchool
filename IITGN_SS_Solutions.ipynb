{
  "nbformat": 4,
  "nbformat_minor": 0,
  "metadata": {
    "colab": {
      "provenance": [],
      "collapsed_sections": [
        "ZWeQiDac1hFn"
      ]
    },
    "kernelspec": {
      "name": "python3",
      "display_name": "Python 3"
    },
    "language_info": {
      "name": "python"
    }
  },
  "cells": [
    {
      "cell_type": "markdown",
      "source": [
        "## **Getting Started**\n",
        "### **Instructions**\n",
        "1. Make a Copy of this Colab Notebook in your Drive. To do so:\n",
        "> * Go to the \"File\" tab in the top navigation bar.\n",
        "> * Click on \"Save a copy in Drive\".\n",
        "> * Once done, open the copied Colab for editing.\n",
        "\n",
        "2. Read the questions for each exercise by **adhering to nomenclature used**.\n",
        "3. Write your code solutions only in the designated cells (**# CODE HERE**).\n",
        "4. Run any other cells in the sequence they appear.\n"
      ],
      "metadata": {
        "id": "8HFk5Whl0CFp"
      }
    },
    {
      "cell_type": "markdown",
      "source": [
        "### **Importing Libraries**"
      ],
      "metadata": {
        "id": "clISjdjd4EK8"
      }
    },
    {
      "cell_type": "code",
      "source": [
        "import numpy as np\n",
        "import matplotlib.pyplot as plt"
      ],
      "metadata": {
        "id": "ahLL5Pij4SES"
      },
      "execution_count": null,
      "outputs": []
    },
    {
      "cell_type": "markdown",
      "source": [
        "## **NumPy Operations** - *Into the World of Dimensions*"
      ],
      "metadata": {
        "id": "ZWeQiDac1hFn"
      }
    },
    {
      "cell_type": "markdown",
      "source": [
        "In this section, we will explore different operations that we can perform using numpy efficiently:"
      ],
      "metadata": {
        "id": "AsFmkx7Y_-ei"
      }
    },
    {
      "cell_type": "markdown",
      "source": [
        "For often, while venturing into the world of High-Dimensional Data(one involving multi-dimensional arrays), we often need to summarise its entirety within few dimensions. This process is called Principal Component Analysis (PCA). We walk through the various steps involved from scratch."
      ],
      "metadata": {
        "id": "tMB9yEbPAukb"
      }
    },
    {
      "cell_type": "markdown",
      "source": [
        "Let's create a 2D Numpy Array which we'll represent as a Matrix"
      ],
      "metadata": {
        "id": "hhp5kUQGIDBo"
      }
    },
    {
      "cell_type": "markdown",
      "source": [
        "Suppose we have this 9 x 5 (N x M) Martix X, indicating that there are 5 points/vectors in 9-dimensional space:\n",
        "\\begin{equation}\n",
        "X_{N x M} =\n",
        "\\begin{bmatrix}\n",
        " 6&3&1&6&7 \\\\\n",
        " 3&9&2&2&5 \\\\\n",
        " 2&3&4&8&5 \\\\\n",
        " 4&2&5&1&2 \\\\\n",
        " 6&4&1&4&1 \\\\\n",
        " 3&0&5&0&0 \\\\\n",
        " 2&5&0&7&2 \\\\\n",
        " 6&7&5&0&8 \\\\\n",
        " 8&2&6&5&2\n",
        "\\end{bmatrix}\n",
        "\\end{equation}"
      ],
      "metadata": {
        "id": "UB2x1FLtJXe_"
      }
    },
    {
      "cell_type": "code",
      "source": [
        "X = np.array([[6, 3, 2, 4, 6, 3, 2, 6, 8], [3, 9, 3, 2, 4, 0, 5, 7, 2], [1, 2, 4, 5, 1, 5, 0, 5, 6], [6, 2, 8, 1, 4, 0, 7, 0, 5], [7, 5, 5, 2, 1, 0, 2, 8, 2]])\n",
        "print(X)"
      ],
      "metadata": {
        "colab": {
          "base_uri": "https://localhost:8080/"
        },
        "id": "UwPYNVXPILkS",
        "outputId": "37afe6cb-716f-4a81-b274-d727b78c8a86"
      },
      "execution_count": null,
      "outputs": [
        {
          "output_type": "stream",
          "name": "stdout",
          "text": [
            "[[6 3 2 4 6 3 2 6 8]\n",
            " [3 9 3 2 4 0 5 7 2]\n",
            " [1 2 4 5 1 5 0 5 6]\n",
            " [6 2 8 1 4 0 7 0 5]\n",
            " [7 5 5 2 1 0 2 8 2]]\n"
          ]
        }
      ]
    },
    {
      "cell_type": "markdown",
      "source": [
        "Notice each vector (X<sub>i</sub>) was a **column** when represented in matrix form viz:\n",
        "\\begin{equation}\n",
        "X_i =\n",
        "\\begin{bmatrix}\n",
        " 6 \\\\\n",
        " 3 \\\\\n",
        " 2 \\\\\n",
        " 4 \\\\\n",
        " 6 \\\\\n",
        " 3 \\\\\n",
        " 2 \\\\\n",
        " 6 \\\\\n",
        " 8\n",
        "\\end{bmatrix}\n",
        "\\end{equation}\n",
        "But NumPy arrays always have Row as a Vector.<br>\n",
        "So the matrix representation would be the **transpose** of the array **X**:"
      ],
      "metadata": {
        "id": "S6UYKr2iPR9d"
      }
    },
    {
      "cell_type": "code",
      "source": [
        "print(X.T)"
      ],
      "metadata": {
        "colab": {
          "base_uri": "https://localhost:8080/"
        },
        "id": "NWPj1u-QQQJc",
        "outputId": "d09ddf86-f4bc-4b67-dc23-2bd8872c3653"
      },
      "execution_count": null,
      "outputs": [
        {
          "output_type": "stream",
          "name": "stdout",
          "text": [
            "[[6 3 1 6 7]\n",
            " [3 9 2 2 5]\n",
            " [2 3 4 8 5]\n",
            " [4 2 5 1 2]\n",
            " [6 4 1 4 1]\n",
            " [3 0 5 0 0]\n",
            " [2 5 0 7 2]\n",
            " [6 7 5 0 8]\n",
            " [8 2 6 5 2]]\n"
          ]
        }
      ]
    },
    {
      "cell_type": "markdown",
      "source": [
        "The first step in the PCA is to Standardise the given matrix.<br> To standardise a matrix, we replace each column vector by subtracting each column vector of the matrix from **the mean vector μ**:<br>\n",
        "\\begin{equation}\n",
        "\\mu = \\frac{\\sum_{i = 1}^{M}X_i}{M}\n",
        "\\end{equation}\n",
        "So,\n",
        "\\begin{equation}\n",
        "\\mu =\n",
        "\\frac{\n",
        "\\begin{bmatrix}\n",
        " 6 \\\\\n",
        " 3 \\\\\n",
        " 2 \\\\\n",
        " 4 \\\\\n",
        " 6 \\\\\n",
        " 3 \\\\\n",
        " 2 \\\\\n",
        " 6 \\\\\n",
        " 8\n",
        "\\end{bmatrix}\n",
        "+\n",
        "\\begin{bmatrix}\n",
        " 3 \\\\\n",
        " 9 \\\\\n",
        " 3 \\\\\n",
        " 2 \\\\\n",
        " 4 \\\\\n",
        " 0 \\\\\n",
        " 5 \\\\\n",
        " 7 \\\\\n",
        " 2\n",
        "\\end{bmatrix}\n",
        "+\n",
        "\\begin{bmatrix}\n",
        " 1 \\\\\n",
        " 2 \\\\\n",
        " 4 \\\\\n",
        " 5 \\\\\n",
        " 1 \\\\\n",
        " 5 \\\\\n",
        " 0 \\\\\n",
        " 5 \\\\\n",
        " 6\n",
        "\\end{bmatrix}\n",
        "+\n",
        "\\begin{bmatrix}\n",
        " 6 \\\\\n",
        " 2 \\\\\n",
        " 8 \\\\\n",
        " 1 \\\\\n",
        " 4 \\\\\n",
        " 0 \\\\\n",
        " 7 \\\\\n",
        " 0 \\\\\n",
        " 5\n",
        "\\end{bmatrix}\n",
        "+\n",
        "\\begin{bmatrix}\n",
        " 7 \\\\\n",
        " 5 \\\\\n",
        " 5 \\\\\n",
        " 2 \\\\\n",
        " 1 \\\\\n",
        " 0 \\\\\n",
        " 2 \\\\\n",
        " 8 \\\\\n",
        " 2\n",
        "\\end{bmatrix}}{5}\n",
        "\\end{equation}\n",
        "Hence, each new column of X is now:\n",
        "\\begin{equation}\n",
        "A_i = X_i - \\mu\n",
        "\\end{equation}\n"
      ],
      "metadata": {
        "id": "DMSsdrezMbwB"
      }
    },
    {
      "cell_type": "markdown",
      "source": [
        "### **EXERCISE 1**\n",
        "Compute the Mean Vector using np.mean() and name it **mean**"
      ],
      "metadata": {
        "id": "RPL7jtF7VtMU"
      }
    },
    {
      "cell_type": "code",
      "source": [
        "# CODE HERE\n",
        "mean = np.mean(X, axis = 0)\n",
        "print(mean)"
      ],
      "metadata": {
        "colab": {
          "base_uri": "https://localhost:8080/"
        },
        "id": "KsRO5eDvM6M9",
        "outputId": "ead9caa3-2c19-49e9-867f-2fb6750cc5be"
      },
      "execution_count": null,
      "outputs": [
        {
          "output_type": "stream",
          "name": "stdout",
          "text": [
            "[4.6 4.2 4.4 2.8 3.2 1.6 3.2 5.2 4.6]\n"
          ]
        }
      ]
    },
    {
      "cell_type": "markdown",
      "source": [
        "### **EXERCISE 2**\n",
        "Compute the standardised matrix X after subtracting **mean** from **X** and name it **A** and also find the shape of the A array. Notice that A is N x M matrix while in NumPy array it has the shape M x N."
      ],
      "metadata": {
        "id": "AzMGFZdQV6q2"
      }
    },
    {
      "cell_type": "code",
      "execution_count": null,
      "metadata": {
        "id": "76jruCI2z66o",
        "colab": {
          "base_uri": "https://localhost:8080/"
        },
        "outputId": "2b86fc77-653c-4318-fb27-b6e9d83c29ec"
      },
      "outputs": [
        {
          "output_type": "stream",
          "name": "stdout",
          "text": [
            "[[ 1.4 -1.2 -2.4  1.2  2.8  1.4 -1.2  0.8  3.4]\n",
            " [-1.6  4.8 -1.4 -0.8  0.8 -1.6  1.8  1.8 -2.6]\n",
            " [-3.6 -2.2 -0.4  2.2 -2.2  3.4 -3.2 -0.2  1.4]\n",
            " [ 1.4 -2.2  3.6 -1.8  0.8 -1.6  3.8 -5.2  0.4]\n",
            " [ 2.4  0.8  0.6 -0.8 -2.2 -1.6 -1.2  2.8 -2.6]]\n",
            "(5, 9)\n"
          ]
        }
      ],
      "source": [
        "# CODE HERE\n",
        "A = X - mean\n",
        "print(A)\n",
        "print(A.shape)"
      ]
    },
    {
      "cell_type": "markdown",
      "source": [
        "Now comes the time to compute the **Covariance Matrix** of this new matrix **A**. The covariance matrix (Σ) comes from the Matrix Multiplication of the standardised matrix and its transpose.\n",
        "\\begin{equation}\n",
        "Σ = \\frac{A.A^T}{(M - 1)}\n",
        "\\end{equation}"
      ],
      "metadata": {
        "id": "rcwR8xKDWuNH"
      }
    },
    {
      "cell_type": "markdown",
      "source": [
        "### **EXERCISE 3**\n",
        "Compute the Covariance matrix of A using numpy matrix multiplication and call it **cov**. Also find its shape.<br>\n",
        "Hint: Take care of the shape of the array and recall the matrix representation thing!"
      ],
      "metadata": {
        "id": "gCI7deP4YHsB"
      }
    },
    {
      "cell_type": "code",
      "source": [
        "# CODE HERE\n",
        "cov = (A.T @ A)/(A.shape[0] - 1)\n",
        "print(cov)\n",
        "print(cov.shape)"
      ],
      "metadata": {
        "colab": {
          "base_uri": "https://localhost:8080/"
        },
        "id": "5TJ0iSorWcas",
        "outputId": "f02251ae-4286-4aa1-b36e-65167d7ec038"
      },
      "execution_count": null,
      "outputs": [
        {
          "output_type": "stream",
          "name": "stdout",
          "text": [
            "[[ 6.3  -0.65  1.7  -2.35  1.6  -3.45  2.35 -0.4  -0.45]\n",
            " [-0.65  8.7  -2.6  -1.7   0.45 -3.65  1.95  5.45 -5.65]\n",
            " [ 1.7  -2.6   5.3  -2.4  -1.35 -2.3   3.65 -5.35 -1.3 ]\n",
            " [-2.35 -1.7  -2.4   2.7  -0.45  3.65 -3.95  1.55  2.65]\n",
            " [ 1.6   0.45 -1.35 -0.45  4.7  -0.65  2.7  -1.55  2.6 ]\n",
            " [-3.45 -3.65 -2.3   3.65 -0.65  5.3  -4.9   0.35  4.3 ]\n",
            " [ 2.35  1.95  3.65 -3.95  2.7  -4.9   7.7  -5.05 -2.15]\n",
            " [-0.4   5.45 -5.35  1.55 -1.55  0.35 -5.05  9.7  -2.9 ]\n",
            " [-0.45 -5.65 -1.3   2.65  2.6   4.3  -2.15 -2.9   6.8 ]]\n",
            "(9, 9)\n"
          ]
        }
      ]
    },
    {
      "cell_type": "markdown",
      "source": [
        "Last few steps involve computing the Eigenvalues and Eigenvectors of the Covariance Matrix.\n",
        "### **EXERCISE-4**\n",
        "Compute the EigenValues and EigenValues of **cov** using NumPy's Linear Algebra. Store them in **EigenValues** and **EigenVectors** named arrays."
      ],
      "metadata": {
        "id": "5ZfrdUWaZVoA"
      }
    },
    {
      "cell_type": "code",
      "source": [
        "# CODE HERE\n",
        "EigenValues, EigenVectors = np.linalg.eig(cov)\n",
        "print(EigenValues)\n",
        "print(EigenVectors)"
      ],
      "metadata": {
        "colab": {
          "base_uri": "https://localhost:8080/"
        },
        "id": "UqYnT9pOdhm-",
        "outputId": "0ac2b178-ecf4-4839-8161-bb8efcf1b3c3"
      },
      "execution_count": null,
      "outputs": [
        {
          "output_type": "stream",
          "name": "stdout",
          "text": [
            "[ 2.24470247e+01  2.02940723e+01  8.24600767e+00  6.21289531e+00\n",
            " -5.79773474e-16 -1.32941225e-15  9.41005936e-16  6.60060831e-16\n",
            " -1.92653887e-17]\n",
            "[[ 0.27729456 -0.02695638  0.29946301  0.78409967  0.37154866 -0.25608732\n",
            "  -0.09630427 -0.08493116 -0.23445087]\n",
            " [ 0.15749083  0.59511867  0.15755346 -0.34769121  0.32976944 -0.53908005\n",
            "  -0.16877037 -0.19804171  0.01010402]\n",
            " [ 0.33420201 -0.24840423 -0.42196408  0.10794905  0.28053828 -0.56707883\n",
            "   0.33762381  0.39916343 -0.21393969]\n",
            " [-0.34102616 -0.05461303  0.02135916 -0.06361944  0.39396614 -0.35727713\n",
            "   0.767182    0.67754842 -0.39764369]\n",
            " [ 0.09766404 -0.09704498  0.70720343 -0.16572672  0.05987644 -0.15061818\n",
            "   0.18314382  0.21717053 -0.29344868]\n",
            " [-0.44183851 -0.19513124 -0.0371672  -0.14672425  0.65920414 -0.35150137\n",
            "  -0.27849601 -0.08716906 -0.59183959]\n",
            " [ 0.54701291 -0.07393328  0.17686141 -0.31448654  0.15689112  0.18553257\n",
            "   0.23685724  0.33211429 -0.18810371]\n",
            " [-0.30128097  0.58531466  0.10116038  0.31729276 -0.07789081  0.10692987\n",
            "   0.29489116  0.39708541 -0.03855819]\n",
            " [-0.27488483 -0.42996112  0.4049166   0.00531674 -0.22466769 -0.04991248\n",
            "  -0.07429772 -0.11146597  0.51747854]]\n"
          ]
        }
      ]
    },
    {
      "cell_type": "markdown",
      "source": [
        "**NOTE:** The EigenVector array returned actually has the eigenvectors as its columns rather than its rows (unlike the usual NumPy array scenario). So you need to transpose it before proceeding further."
      ],
      "metadata": {
        "id": "dHpxmMz-o0k3"
      }
    },
    {
      "cell_type": "code",
      "source": [
        "EigenVectors = EigenVectors.T\n",
        "print(EigenVectors)"
      ],
      "metadata": {
        "colab": {
          "base_uri": "https://localhost:8080/"
        },
        "id": "nv1DjNKNpLiI",
        "outputId": "dcf08b62-1705-4efa-922f-fedf312c3d14"
      },
      "execution_count": null,
      "outputs": [
        {
          "output_type": "stream",
          "name": "stdout",
          "text": [
            "[[ 0.27729456  0.15749083  0.33420201 -0.34102616  0.09766404 -0.44183851\n",
            "   0.54701291 -0.30128097 -0.27488483]\n",
            " [-0.02695638  0.59511867 -0.24840423 -0.05461303 -0.09704498 -0.19513124\n",
            "  -0.07393328  0.58531466 -0.42996112]\n",
            " [ 0.29946301  0.15755346 -0.42196408  0.02135916  0.70720343 -0.0371672\n",
            "   0.17686141  0.10116038  0.4049166 ]\n",
            " [ 0.78409967 -0.34769121  0.10794905 -0.06361944 -0.16572672 -0.14672425\n",
            "  -0.31448654  0.31729276  0.00531674]\n",
            " [ 0.37154866  0.32976944  0.28053828  0.39396614  0.05987644  0.65920414\n",
            "   0.15689112 -0.07789081 -0.22466769]\n",
            " [-0.25608732 -0.53908005 -0.56707883 -0.35727713 -0.15061818 -0.35150137\n",
            "   0.18553257  0.10692987 -0.04991248]\n",
            " [-0.09630427 -0.16877037  0.33762381  0.767182    0.18314382 -0.27849601\n",
            "   0.23685724  0.29489116 -0.07429772]\n",
            " [-0.08493116 -0.19804171  0.39916343  0.67754842  0.21717053 -0.08716906\n",
            "   0.33211429  0.39708541 -0.11146597]\n",
            " [-0.23445087  0.01010402 -0.21393969 -0.39764369 -0.29344868 -0.59183959\n",
            "  -0.18810371 -0.03855819  0.51747854]]\n"
          ]
        }
      ]
    },
    {
      "cell_type": "markdown",
      "source": [
        "The next task is to arrange the rows of the **EigenVectors** Array based upon the indices of the Eigenvalues in descending order.<br>\n",
        "Look at the following routine:"
      ],
      "metadata": {
        "id": "JGGZqDTsgwmK"
      }
    },
    {
      "cell_type": "code",
      "source": [
        "indices = np.array([3, 2, 4, 0, 1])\n",
        "arr = np.array([[1, 2, 3], [4, 5, 6], [7, 8, 9], [10, 11, 12], [13, 14, 15]])\n",
        "print(f\"The Original Array:\\n{arr}\\n\")\n",
        "print(f\"The array with Rows rearranged according to the indices:\\n{arr[indices]}\")"
      ],
      "metadata": {
        "colab": {
          "base_uri": "https://localhost:8080/"
        },
        "id": "n5433ZuXhdXI",
        "outputId": "dc9092a4-5c59-4ce1-dd4f-bbc442cec0c7"
      },
      "execution_count": null,
      "outputs": [
        {
          "output_type": "stream",
          "name": "stdout",
          "text": [
            "The Original Array:\n",
            "[[ 1  2  3]\n",
            " [ 4  5  6]\n",
            " [ 7  8  9]\n",
            " [10 11 12]\n",
            " [13 14 15]]\n",
            "\n",
            "The array with Rows rearranged according to the indices:\n",
            "[[10 11 12]\n",
            " [ 7  8  9]\n",
            " [13 14 15]\n",
            " [ 1  2  3]\n",
            " [ 4  5  6]]\n"
          ]
        }
      ]
    },
    {
      "cell_type": "markdown",
      "source": [
        "### **EXERCISE-5**\n",
        "Arrange the Eigenvectors(the rows of the **EigenVectors** Array) corresponding to the values of the **EigenValues** Array(in descending order) following a routine similar to the above."
      ],
      "metadata": {
        "id": "9OOj3jEBgFU0"
      }
    },
    {
      "cell_type": "code",
      "source": [
        "# CODE HERE\n",
        "eig_new = EigenVectors[np.argsort(EigenValues)[::-1]]\n",
        "print(eig_new)"
      ],
      "metadata": {
        "colab": {
          "base_uri": "https://localhost:8080/"
        },
        "id": "gUnZihOAiUwL",
        "outputId": "53b8fe4f-e022-4d66-943c-d0d9de0e4917"
      },
      "execution_count": null,
      "outputs": [
        {
          "output_type": "stream",
          "name": "stdout",
          "text": [
            "[[ 0.27729456  0.15749083  0.33420201 -0.34102616  0.09766404 -0.44183851\n",
            "   0.54701291 -0.30128097 -0.27488483]\n",
            " [-0.02695638  0.59511867 -0.24840423 -0.05461303 -0.09704498 -0.19513124\n",
            "  -0.07393328  0.58531466 -0.42996112]\n",
            " [ 0.29946301  0.15755346 -0.42196408  0.02135916  0.70720343 -0.0371672\n",
            "   0.17686141  0.10116038  0.4049166 ]\n",
            " [ 0.78409967 -0.34769121  0.10794905 -0.06361944 -0.16572672 -0.14672425\n",
            "  -0.31448654  0.31729276  0.00531674]\n",
            " [-0.09630427 -0.16877037  0.33762381  0.767182    0.18314382 -0.27849601\n",
            "   0.23685724  0.29489116 -0.07429772]\n",
            " [-0.08493116 -0.19804171  0.39916343  0.67754842  0.21717053 -0.08716906\n",
            "   0.33211429  0.39708541 -0.11146597]\n",
            " [-0.23445087  0.01010402 -0.21393969 -0.39764369 -0.29344868 -0.59183959\n",
            "  -0.18810371 -0.03855819  0.51747854]\n",
            " [ 0.37154866  0.32976944  0.28053828  0.39396614  0.05987644  0.65920414\n",
            "   0.15689112 -0.07789081 -0.22466769]\n",
            " [-0.25608732 -0.53908005 -0.56707883 -0.35727713 -0.15061818 -0.35150137\n",
            "   0.18553257  0.10692987 -0.04991248]]\n"
          ]
        }
      ]
    },
    {
      "cell_type": "markdown",
      "source": [
        "### **EXERCISE-6**\n",
        "Extract only the first **K** rows of this rearranged array and store them in an array named **W**. Also find the shape of **W**."
      ],
      "metadata": {
        "id": "sb87Gxzcjdey"
      }
    },
    {
      "cell_type": "code",
      "source": [
        "K = 2"
      ],
      "metadata": {
        "id": "5QmxQod7jt9i"
      },
      "execution_count": null,
      "outputs": []
    },
    {
      "cell_type": "code",
      "source": [
        "# CODE HERE\n",
        "W = eig_new[:K]\n",
        "print(W)\n",
        "print(W.shape)"
      ],
      "metadata": {
        "colab": {
          "base_uri": "https://localhost:8080/"
        },
        "id": "DfYK7wliju8T",
        "outputId": "c864eb9f-ce3d-4d1c-8ef9-2b2368e80060"
      },
      "execution_count": null,
      "outputs": [
        {
          "output_type": "stream",
          "name": "stdout",
          "text": [
            "[[ 0.27729456  0.15749083  0.33420201 -0.34102616  0.09766404 -0.44183851\n",
            "   0.54701291 -0.30128097 -0.27488483]\n",
            " [-0.02695638  0.59511867 -0.24840423 -0.05461303 -0.09704498 -0.19513124\n",
            "  -0.07393328  0.58531466 -0.42996112]]\n",
            "(2, 9)\n"
          ]
        }
      ]
    },
    {
      "cell_type": "markdown",
      "source": [
        "The Final Step of Dimensionality Reduction (PCA) involves the multiplication of the standardised matrix **A** with this **W** matrix:\n",
        "\\begin{equation}\n",
        "X_{new} = A_{M x N}^{T}.W_{N x K}\n",
        "\\end{equation}\n",
        "Notice that the Reduced Version of **X** is of the Dimension **M x K**. Hence we have arrived from an **N**-dimensional space to a smaller **K**-dimensional space while keeping the number of points **M** same still yet extracting the max amount of information from the original data!!"
      ],
      "metadata": {
        "id": "c1GFZqELj_iD"
      }
    },
    {
      "cell_type": "code",
      "source": [
        "X_New = A @ W.T\n",
        "print(X_New)\n",
        "print(X_New.shape)"
      ],
      "metadata": {
        "colab": {
          "base_uri": "https://localhost:8080/"
        },
        "id": "_2SIRwaEqJrO",
        "outputId": "1b584c82-b5d8-4481-c163-e81aec628146"
      },
      "execution_count": null,
      "outputs": [
        {
          "output_type": "stream",
          "name": "stdout",
          "text": [
            "[[-3.18925611 -1.67105261]\n",
            " [ 2.05931366  5.56411557]\n",
            " [-6.02081425 -2.16537435]\n",
            " [ 6.1791359  -5.40494495]\n",
            " [ 0.97162079  3.67725635]]\n",
            "(5, 2)\n"
          ]
        }
      ]
    },
    {
      "cell_type": "markdown",
      "source": [
        "In python, we have come from (5, 9) to (5, 2). Now we can easily plot these 5 points in 2D which initially were in 9D.\n",
        "### **EXERCISE-7**\n",
        "Plot these 5 points using MatPlotLib."
      ],
      "metadata": {
        "id": "lDdFlWK7vWYY"
      }
    },
    {
      "cell_type": "code",
      "source": [
        "# CODE HERE\n",
        "plt.plot(X_New[:, 0], X_New[:, 1], \"o\")\n",
        "plt.grid()\n",
        "plt.show()"
      ],
      "metadata": {
        "colab": {
          "base_uri": "https://localhost:8080/",
          "height": 432
        },
        "id": "jzvuqYFevy1R",
        "outputId": "3cdec8e8-568d-492a-edaa-bae65905b6e7"
      },
      "execution_count": null,
      "outputs": [
        {
          "output_type": "display_data",
          "data": {
            "text/plain": [
              "<Figure size 640x480 with 1 Axes>"
            ],
            "image/png": "[encoded data removed]"
          },
          "metadata": {}
        }
      ]
    }
  ]
}