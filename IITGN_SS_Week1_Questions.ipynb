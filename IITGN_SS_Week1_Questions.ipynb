{
  "nbformat": 4,
  "nbformat_minor": 0,
  "metadata": {
    "colab": {
      "provenance": [],
      "collapsed_sections": [
        "ZWeQiDac1hFn",
        "3xlCvAwEUDwU",
        "fP04uh_sWXmd",
        "FCL2UG2CXNuv",
        "7awoN57HYMSI",
        "9zlA5lSFYoTp",
        "ILJM6YnJfyuT",
        "VaIDhO_9jRLn",
        "G-Fb4QSsjzOC",
        "94Ar2sTOBmrh",
        "U5WNyJGkCTbo",
        "3rK0MiZhC4Er",
        "ZKVEipJfDUOw",
        "dYc6XYZHDpUA"
      ]
    },
    "kernelspec": {
      "name": "python3",
      "display_name": "Python 3"
    },
    "language_info": {
      "name": "python"
    }
  },
  "cells": [
    {
      "cell_type": "markdown",
      "source": [
        "## **Getting Started**\n",
        "### **Instructions**\n",
        "1. Make a Copy of this Colab Notebook in your Drive. To do so:\n",
        "> * Go to the \"File\" tab in the top navigation bar.\n",
        "> * Click on \"Save a copy in Drive\".\n",
        "> * Once done, open the copied Colab for editing.\n",
        "\n",
        "2. Read the questions for each exercise by **adhering to nomenclature used**.\n",
        "3. Write your code solutions only in the designated cells (**# CODE HERE**).\n",
        "4. Run any other cells in the sequence they appear.\n"
      ],
      "metadata": {
        "id": "8HFk5Whl0CFp"
      }
    },
    {
      "cell_type": "markdown",
      "source": [
        "### **Importing Libraries**"
      ],
      "metadata": {
        "id": "clISjdjd4EK8"
      }
    },
    {
      "cell_type": "code",
      "source": [
        "import numpy as np\n",
        "import matplotlib.pyplot as plt"
      ],
      "metadata": {
        "id": "ahLL5Pij4SES"
      },
      "execution_count": null,
      "outputs": []
    },
    {
      "cell_type": "markdown",
      "source": [
        "## **NumPy Operations** - *Into the World of Dimensions*"
      ],
      "metadata": {
        "id": "ZWeQiDac1hFn"
      }
    },
    {
      "cell_type": "markdown",
      "source": [
        "In this section, we will explore different operations that we can perform using numpy efficiently:"
      ],
      "metadata": {
        "id": "AsFmkx7Y_-ei"
      }
    },
    {
      "cell_type": "markdown",
      "source": [
        "For often, while venturing into the world of High-Dimensional Data(one involving multi-dimensional arrays), we often need to summarise its entirety within few dimensions. This process is called Principal Component Analysis (PCA). We walk through the various steps involved from scratch."
      ],
      "metadata": {
        "id": "tMB9yEbPAukb"
      }
    },
    {
      "cell_type": "markdown",
      "source": [
        "Let's create a 2D Numpy Array which we'll represent as a Matrix"
      ],
      "metadata": {
        "id": "hhp5kUQGIDBo"
      }
    },
    {
      "cell_type": "markdown",
      "source": [
        "Suppose we have this 9 x 5 (N x M) Martix X, indicating that there are 5 points/vectors in 9-dimensional space:\n",
        "\\begin{equation}\n",
        "X_{N x M} =\n",
        "\\begin{bmatrix}\n",
        " 6&3&1&6&7 \\\\\n",
        " 3&9&2&2&5 \\\\\n",
        " 2&3&4&8&5 \\\\\n",
        " 4&2&5&1&2 \\\\\n",
        " 6&4&1&4&1 \\\\\n",
        " 3&0&5&0&0 \\\\\n",
        " 2&5&0&7&2 \\\\\n",
        " 6&7&5&0&8 \\\\\n",
        " 8&2&6&5&2\n",
        "\\end{bmatrix}\n",
        "\\end{equation}"
      ],
      "metadata": {
        "id": "UB2x1FLtJXe_"
      }
    },
    {
      "cell_type": "code",
      "source": [
        "X = np.array([[6, 3, 2, 4, 6, 3, 2, 6, 8], [3, 9, 3, 2, 4, 0, 5, 7, 2], [1, 2, 4, 5, 1, 5, 0, 5, 6], [6, 2, 8, 1, 4, 0, 7, 0, 5], [7, 5, 5, 2, 1, 0, 2, 8, 2]])\n",
        "print(X)"
      ],
      "metadata": {
        "id": "UwPYNVXPILkS"
      },
      "execution_count": null,
      "outputs": []
    },
    {
      "cell_type": "markdown",
      "source": [
        "Notice each vector (X<sub>i</sub>) was a **column** when represented in matrix form viz:\n",
        "\\begin{equation}\n",
        "X_i =\n",
        "\\begin{bmatrix}\n",
        " 6 \\\\\n",
        " 3 \\\\\n",
        " 2 \\\\\n",
        " 4 \\\\\n",
        " 6 \\\\\n",
        " 3 \\\\\n",
        " 2 \\\\\n",
        " 6 \\\\\n",
        " 8\n",
        "\\end{bmatrix}\n",
        "\\end{equation}\n",
        "But NumPy arrays always have Row as a Vector.<br>\n",
        "So the matrix representation would be the **transpose** of the array **X**:"
      ],
      "metadata": {
        "id": "S6UYKr2iPR9d"
      }
    },
    {
      "cell_type": "code",
      "source": [
        "print(X.T)"
      ],
      "metadata": {
        "id": "NWPj1u-QQQJc"
      },
      "execution_count": null,
      "outputs": []
    },
    {
      "cell_type": "markdown",
      "source": [
        "The first step in the PCA is to Standardise the given matrix.<br> To standardise a matrix, we replace each column vector by subtracting each column vector of the matrix from **the mean vector μ**:<br>\n",
        "\\begin{equation}\n",
        "\\mu = \\frac{\\sum_{i = 1}^{M}X_i}{M}\n",
        "\\end{equation}\n",
        "So,\n",
        "\\begin{equation}\n",
        "\\mu =\n",
        "\\frac{\n",
        "\\begin{bmatrix}\n",
        " 6 \\\\\n",
        " 3 \\\\\n",
        " 2 \\\\\n",
        " 4 \\\\\n",
        " 6 \\\\\n",
        " 3 \\\\\n",
        " 2 \\\\\n",
        " 6 \\\\\n",
        " 8\n",
        "\\end{bmatrix}\n",
        "+\n",
        "\\begin{bmatrix}\n",
        " 3 \\\\\n",
        " 9 \\\\\n",
        " 3 \\\\\n",
        " 2 \\\\\n",
        " 4 \\\\\n",
        " 0 \\\\\n",
        " 5 \\\\\n",
        " 7 \\\\\n",
        " 2\n",
        "\\end{bmatrix}\n",
        "+\n",
        "\\begin{bmatrix}\n",
        " 1 \\\\\n",
        " 2 \\\\\n",
        " 4 \\\\\n",
        " 5 \\\\\n",
        " 1 \\\\\n",
        " 5 \\\\\n",
        " 0 \\\\\n",
        " 5 \\\\\n",
        " 6\n",
        "\\end{bmatrix}\n",
        "+\n",
        "\\begin{bmatrix}\n",
        " 6 \\\\\n",
        " 2 \\\\\n",
        " 8 \\\\\n",
        " 1 \\\\\n",
        " 4 \\\\\n",
        " 0 \\\\\n",
        " 7 \\\\\n",
        " 0 \\\\\n",
        " 5\n",
        "\\end{bmatrix}\n",
        "+\n",
        "\\begin{bmatrix}\n",
        " 7 \\\\\n",
        " 5 \\\\\n",
        " 5 \\\\\n",
        " 2 \\\\\n",
        " 1 \\\\\n",
        " 0 \\\\\n",
        " 2 \\\\\n",
        " 8 \\\\\n",
        " 2\n",
        "\\end{bmatrix}}{5}\n",
        "\\end{equation}\n",
        "Hence, each new column of X is now:\n",
        "\\begin{equation}\n",
        "A_i = X_i - \\mu\n",
        "\\end{equation}\n"
      ],
      "metadata": {
        "id": "DMSsdrezMbwB"
      }
    },
    {
      "cell_type": "markdown",
      "source": [
        "### **EXERCISE 1**\n",
        "Compute the Mean Vector using np.mean() and name it **mean**"
      ],
      "metadata": {
        "id": "RPL7jtF7VtMU"
      }
    },
    {
      "cell_type": "code",
      "source": [
        "# CODE HERE"
      ],
      "metadata": {
        "id": "KsRO5eDvM6M9"
      },
      "execution_count": null,
      "outputs": []
    },
    {
      "cell_type": "markdown",
      "source": [
        "### **EXERCISE 2**\n",
        "Compute the standardised matrix X after subtracting **mean** from **X** and name it **A** and also find the shape of the A array. Notice that A is N x M matrix while in NumPy array it has the shape M x N."
      ],
      "metadata": {
        "id": "AzMGFZdQV6q2"
      }
    },
    {
      "cell_type": "code",
      "execution_count": null,
      "metadata": {
        "id": "76jruCI2z66o"
      },
      "outputs": [],
      "source": [
        "# CODE HERE"
      ]
    },
    {
      "cell_type": "markdown",
      "source": [
        "Now comes the time to compute the **Covariance Matrix** of this new matrix **A**. The covariance matrix (Σ) comes from the Matrix Multiplication of the standardised matrix and its transpose.\n",
        "\\begin{equation}\n",
        "Σ = \\frac{A.A^T}{(M - 1)}\n",
        "\\end{equation}"
      ],
      "metadata": {
        "id": "rcwR8xKDWuNH"
      }
    },
    {
      "cell_type": "markdown",
      "source": [
        "### **EXERCISE 3**\n",
        "Compute the Covariance matrix of A using numpy matrix multiplication and call it **cov**. Also find its shape.<br>\n",
        "Hint: Take care of the shape of the array and recall the matrix representation thing!"
      ],
      "metadata": {
        "id": "gCI7deP4YHsB"
      }
    },
    {
      "cell_type": "code",
      "source": [
        "# CODE HERE"
      ],
      "metadata": {
        "id": "5TJ0iSorWcas"
      },
      "execution_count": null,
      "outputs": []
    },
    {
      "cell_type": "markdown",
      "source": [
        "Last few steps involve computing the Eigenvalues and Eigenvectors of the Covariance Matrix.\n",
        "### **EXERCISE-4**\n",
        "Compute the EigenValues and EigenValues of **cov** using NumPy's Linear Algebra. Store them in **EigenValues** and **EigenVectors** named arrays."
      ],
      "metadata": {
        "id": "5ZfrdUWaZVoA"
      }
    },
    {
      "cell_type": "code",
      "source": [
        "# CODE HERE"
      ],
      "metadata": {
        "id": "UqYnT9pOdhm-"
      },
      "execution_count": null,
      "outputs": []
    },
    {
      "cell_type": "markdown",
      "source": [
        "**NOTE:** The EigenVector array returned actually has the eigenvectors as its columns rather than its rows (unlike the usual NumPy array scenario). So you need to transpose it before proceeding further."
      ],
      "metadata": {
        "id": "dHpxmMz-o0k3"
      }
    },
    {
      "cell_type": "code",
      "source": [
        "EigenVectors = EigenVectors.T\n",
        "print(EigenVectors)"
      ],
      "metadata": {
        "id": "nv1DjNKNpLiI"
      },
      "execution_count": null,
      "outputs": []
    },
    {
      "cell_type": "markdown",
      "source": [
        "The next task is to arrange the rows of the **EigenVectors** Array based upon the indices of the Eigenvalues in descending order.<br>\n",
        "Look at the following routine:"
      ],
      "metadata": {
        "id": "JGGZqDTsgwmK"
      }
    },
    {
      "cell_type": "code",
      "source": [
        "indices = np.array([3, 2, 4, 0, 1])\n",
        "arr = np.array([[1, 2, 3], [4, 5, 6], [7, 8, 9], [10, 11, 12], [13, 14, 15]])\n",
        "print(f\"The Original Array:\\n{arr}\\n\")\n",
        "print(f\"The array with Rows rearranged according to the indices:\\n{arr[indices]}\")"
      ],
      "metadata": {
        "id": "n5433ZuXhdXI"
      },
      "execution_count": null,
      "outputs": []
    },
    {
      "cell_type": "markdown",
      "source": [
        "### **EXERCISE-5**\n",
        "Arrange the Eigenvectors(the rows of the **EigenVectors** Array) corresponding to the values of the **EigenValues** Array(in descending order) following a routine similar to the above."
      ],
      "metadata": {
        "id": "9OOj3jEBgFU0"
      }
    },
    {
      "cell_type": "code",
      "source": [
        "# CODE HERE"
      ],
      "metadata": {
        "id": "gUnZihOAiUwL"
      },
      "execution_count": null,
      "outputs": []
    },
    {
      "cell_type": "markdown",
      "source": [
        "### **EXERCISE-6**\n",
        "Extract only the first **K** rows of this rearranged array and store them in an array named **W**. Also find the shape of **W**."
      ],
      "metadata": {
        "id": "sb87Gxzcjdey"
      }
    },
    {
      "cell_type": "code",
      "source": [
        "K = 2"
      ],
      "metadata": {
        "id": "5QmxQod7jt9i"
      },
      "execution_count": null,
      "outputs": []
    },
    {
      "cell_type": "code",
      "source": [
        "# CODE HERE"
      ],
      "metadata": {
        "id": "DfYK7wliju8T"
      },
      "execution_count": null,
      "outputs": []
    },
    {
      "cell_type": "markdown",
      "source": [
        "The Final Step of Dimensionality Reduction (PCA) involves the multiplication of the standardised matrix **A** with this **W** matrix:\n",
        "\\begin{equation}\n",
        "X_{new} = A_{M x N}^{T}.W_{N x K}\n",
        "\\end{equation}\n",
        "Notice that the Reduced Version of **X** is of the Dimension **M x K**. Hence we have arrived from an **N**-dimensional space to a smaller **K**-dimensional space while keeping the number of points **M** same still yet extracting the max amount of information from the original data!!"
      ],
      "metadata": {
        "id": "c1GFZqELj_iD"
      }
    },
    {
      "cell_type": "code",
      "source": [
        "X_New = A @ W.T\n",
        "print(X_New)\n",
        "print(X_New.shape)"
      ],
      "metadata": {
        "id": "_2SIRwaEqJrO"
      },
      "execution_count": null,
      "outputs": []
    },
    {
      "cell_type": "markdown",
      "source": [
        "In python, we have come from (5, 9) to (5, 2). Now we can easily plot these 5 points in 2D which initially were in 9D.\n",
        "### **EXERCISE-7**\n",
        "Plot these 5 points using MatPlotLib."
      ],
      "metadata": {
        "id": "lDdFlWK7vWYY"
      }
    },
    {
      "cell_type": "code",
      "source": [
        "# CODE HERE"
      ],
      "metadata": {
        "id": "jzvuqYFevy1R"
      },
      "execution_count": null,
      "outputs": []
    },
    {
      "cell_type": "markdown",
      "source": [
        "## **Image Processing** - *Seeing through the eyes of arrays*"
      ],
      "metadata": {
        "id": "6AdZQaDQD3Jo"
      }
    },
    {
      "cell_type": "markdown",
      "source": [
        "We explore the smart use of NumPy when working with images. Such operations would enable one to understand the basic concepts behind Image Processing and Computer Vision."
      ],
      "metadata": {
        "id": "NWgcbi5jElEo"
      }
    },
    {
      "cell_type": "markdown",
      "source": [
        "###**Creating an Image Array**\n",
        "\n"
      ],
      "metadata": {
        "id": "d7aj8rXcEONZ"
      }
    },
    {
      "cell_type": "markdown",
      "source": [
        "\n",
        "We first load the image using the MatPlotLib package. Next, this image is converted to a numpy array.\n",
        "\n",
        "In the code given below, **image** is the name of the array that stores our image."
      ],
      "metadata": {
        "id": "jQNwd6E_EVrw"
      }
    },
    {
      "cell_type": "code",
      "source": [
        "image = plt.imread('/content/LalMinar.jpeg')\n",
        "image = np.array(image)\n",
        "image"
      ],
      "metadata": {
        "id": "1G9sXVBBFfVf"
      },
      "execution_count": null,
      "outputs": []
    },
    {
      "cell_type": "markdown",
      "source": [
        "Notice that the **image** array is a three-dimensional one. The first two dimensions offer the height and width of the image. While the mysterious third dimension shows the RGB channels present in the image."
      ],
      "metadata": {
        "id": "kP-51F93GG__"
      }
    },
    {
      "cell_type": "code",
      "source": [
        "image.shape"
      ],
      "metadata": {
        "id": "yGBYtcDJGy15"
      },
      "execution_count": null,
      "outputs": []
    },
    {
      "cell_type": "markdown",
      "source": [
        "The total number of pixels in the image"
      ],
      "metadata": {
        "id": "21XWNaOMHTR5"
      }
    },
    {
      "cell_type": "code",
      "source": [
        "image.size"
      ],
      "metadata": {
        "id": "jt_uFc-RHaZV"
      },
      "execution_count": null,
      "outputs": []
    },
    {
      "cell_type": "markdown",
      "source": [
        "###**Displaying the Image**"
      ],
      "metadata": {
        "id": "NwDZA_uzHqKd"
      }
    },
    {
      "cell_type": "markdown",
      "source": [
        "We will define a function **disp()** to display the RGB images, so we can reuse this piece of code."
      ],
      "metadata": {
        "id": "qMBkIaEsH2Pn"
      }
    },
    {
      "cell_type": "code",
      "source": [
        "def disp(img):\n",
        "  plt.imshow(img)\n",
        "  plt.axis(\"off\")\n",
        "  plt.show()"
      ],
      "metadata": {
        "id": "D1NQ-_c3H137"
      },
      "execution_count": null,
      "outputs": []
    },
    {
      "cell_type": "markdown",
      "source": [
        "This is what the image looks like"
      ],
      "metadata": {
        "id": "T6MMsTE5If5d"
      }
    },
    {
      "cell_type": "code",
      "source": [
        "disp(image)"
      ],
      "metadata": {
        "id": "D6p1o2pBIklc"
      },
      "execution_count": null,
      "outputs": []
    },
    {
      "cell_type": "markdown",
      "source": [
        "###**The Red, Green, and Blue Channels**"
      ],
      "metadata": {
        "id": "3xlCvAwEUDwU"
      }
    },
    {
      "cell_type": "markdown",
      "source": [
        "The Red Channel"
      ],
      "metadata": {
        "id": "C6GhgbdjVucI"
      }
    },
    {
      "cell_type": "code",
      "source": [
        "image[:, :, 0]"
      ],
      "metadata": {
        "id": "Gt9FM_REVwwC"
      },
      "execution_count": null,
      "outputs": []
    },
    {
      "cell_type": "markdown",
      "source": [
        "### **EXERCISE-1**\n",
        "Extract the Green and Blue Channels likewise"
      ],
      "metadata": {
        "id": "fP04uh_sWXmd"
      }
    },
    {
      "cell_type": "markdown",
      "source": [
        "The Green Channel"
      ],
      "metadata": {
        "id": "GxTQ3qvdWiYU"
      }
    },
    {
      "cell_type": "code",
      "source": [
        "#CODE HERE"
      ],
      "metadata": {
        "id": "hLC9w9LBV1x8"
      },
      "execution_count": null,
      "outputs": []
    },
    {
      "cell_type": "markdown",
      "source": [
        "The Blue Channel"
      ],
      "metadata": {
        "id": "KHTcPYXNW86K"
      }
    },
    {
      "cell_type": "code",
      "source": [
        "#CODE HERE"
      ],
      "metadata": {
        "id": "NBJalDVOW_03"
      },
      "execution_count": null,
      "outputs": []
    },
    {
      "cell_type": "markdown",
      "source": [
        "### **Visualizing the Channels**"
      ],
      "metadata": {
        "id": "FCL2UG2CXNuv"
      }
    },
    {
      "cell_type": "markdown",
      "source": [
        "Notice the image in RG, GB, and RB channels"
      ],
      "metadata": {
        "id": "UXsdulURXVY1"
      }
    },
    {
      "cell_type": "code",
      "source": [
        "imgRG, imgGB, imgRB = image.copy(), image.copy(), image.copy()\n",
        "imgRG[:, :, 2] = 0\n",
        "imgGB[:, :, 0] = 0\n",
        "imgRB[:, :, 1] = 0\n",
        "print(\"Image in RG Channel:\")\n",
        "disp(imgRG)\n",
        "print(\"Image in GB Channel:\")\n",
        "disp(imgGB)\n",
        "print(\"Image in RB Channel:\")\n",
        "disp(imgRB)"
      ],
      "metadata": {
        "id": "TU1-Lx2-XU2e"
      },
      "execution_count": null,
      "outputs": []
    },
    {
      "cell_type": "markdown",
      "source": [
        "###**EXERCISE-2**"
      ],
      "metadata": {
        "id": "7awoN57HYMSI"
      }
    },
    {
      "cell_type": "markdown",
      "source": [
        "Display the image in Red, Green, and Blue Channels separately"
      ],
      "metadata": {
        "id": "b833IHyqYPRQ"
      }
    },
    {
      "cell_type": "code",
      "source": [
        "# CODE HERE"
      ],
      "metadata": {
        "id": "QAQHFHHxX_1s"
      },
      "execution_count": null,
      "outputs": []
    },
    {
      "cell_type": "markdown",
      "source": [
        "###**BONUS: Copy and DeepCopy**\n",
        "\n",
        "When you copy python arrays by doing:\n",
        "\n",
        "array2 = array1\n",
        "\n",
        "This statement does not create a new copy of the array in the memory, instead, it just creates a new pointer array2 that points to array1 in the memory. Any changes in array2 will be reflected in array1 and vice-versa.<br>\n",
        "Try this!"
      ],
      "metadata": {
        "id": "9zlA5lSFYoTp"
      }
    },
    {
      "cell_type": "code",
      "source": [
        "# CODE HERE"
      ],
      "metadata": {
        "id": "4AanK2IUYxYG"
      },
      "execution_count": null,
      "outputs": []
    },
    {
      "cell_type": "markdown",
      "source": [
        "To avoid this and create a completely new copy of arrays in the memory, we use .copy() for one dimensional arrays and deepcopy() for higher dimensional arrays."
      ],
      "metadata": {
        "id": "IqPJV1PCY2zh"
      }
    },
    {
      "cell_type": "code",
      "source": [
        "# CODE HERE"
      ],
      "metadata": {
        "id": "E3B4kCqoY4kB"
      },
      "execution_count": null,
      "outputs": []
    },
    {
      "cell_type": "markdown",
      "source": [
        "###**Converting to Grayscale**\n",
        "A grayscale image is a two dimensional array, with every value specifing the black content.<br>\n",
        "For obtaining a grayscale pixel channel using 3 RGB channels, we take 29.89% contribution from the Red Channel, 58.70% contribution from the Blue Channel and the remaining 11.40% contribution from the Green Channel."
      ],
      "metadata": {
        "id": "ILJM6YnJfyuT"
      }
    },
    {
      "cell_type": "markdown",
      "source": [
        "Hence, we create a grayscale image by taking the dot product with this weighted array for RGB using **np.dot()**."
      ],
      "metadata": {
        "id": "qX9PnVs2hxlx"
      }
    },
    {
      "cell_type": "code",
      "source": [
        "weights = [0.2989, 0.5870, 0.1140]\n",
        "gray_image = np.dot(image, weights)\n",
        "\n",
        "plt.imshow(gray_image, cmap='gray') # We can't use disp() here as we need cmap = 'gray' for displaying grayscale images\n",
        "plt.axis('off')\n",
        "plt.show()"
      ],
      "metadata": {
        "id": "hCEJHhGKi2N7"
      },
      "execution_count": null,
      "outputs": []
    },
    {
      "cell_type": "markdown",
      "source": [
        "Also notice the shape of **gray_image**. It no longer has the third dimension!"
      ],
      "metadata": {
        "id": "45JjeQemjCzq"
      }
    },
    {
      "cell_type": "code",
      "source": [
        "gray_image.shape"
      ],
      "metadata": {
        "id": "6DtzDBDgi8FR"
      },
      "execution_count": null,
      "outputs": []
    },
    {
      "cell_type": "markdown",
      "source": [
        "### **Image Cropping**\n",
        "All cropping involves is the slicing the image array within certain limits aka Regions of Interest (ROI)."
      ],
      "metadata": {
        "id": "VaIDhO_9jRLn"
      }
    },
    {
      "cell_type": "code",
      "source": [
        "left, right = 300, 500\n",
        "top, bottom = 150, 600\n",
        "cropped_image = image[top : bottom, left : right]\n",
        "disp(cropped_image)"
      ],
      "metadata": {
        "id": "IkOmfumajJUW"
      },
      "execution_count": null,
      "outputs": []
    },
    {
      "cell_type": "markdown",
      "source": [
        "### **Image Resizing**\n",
        "Let's start by creating an array and taking out some specific elements from it, say we create a 3X3 matrix and we want elements in the (Row, Col) = {(0, 1), (0, 2), (2, 1), (2, 2)}:"
      ],
      "metadata": {
        "id": "G-Fb4QSsjzOC"
      }
    },
    {
      "cell_type": "code",
      "source": [
        "arr = np.array([[1, 2, 3],\n",
        "                [4, 5, 6],\n",
        "                [7, 8, 9]])\n",
        "\n",
        "rows = np.array([0, 2])\n",
        "cols = np.array([1, 2])\n",
        "\n",
        "selection = arr[np.ix_(rows, cols)]\n",
        "selection"
      ],
      "metadata": {
        "id": "gv72124wjttH"
      },
      "execution_count": null,
      "outputs": []
    },
    {
      "cell_type": "markdown",
      "source": [
        "###The **np._ix()**\n",
        "We start by selecting the required number of rows and columns. This is done using **np.linspace()**<br>\n",
        "*Note: **np.linspace()** generates an array containing elements from the starting to the ending element, the number of elements is decided by the third parameter.* <br>"
      ],
      "metadata": {
        "id": "94Ar2sTOBmrh"
      }
    },
    {
      "cell_type": "code",
      "source": [
        "target_width = 500\n",
        "target_height = 400\n",
        "\n",
        "row_indices = np.linspace(0, image.shape[0] - 1, target_height, dtype=int)\n",
        "col_indices = np.linspace(0, image.shape[1] - 1, target_width, dtype=int)\n",
        "\n",
        "resized_image = image[np.ix_(row_indices, col_indices)]\n",
        "\n",
        "disp(resized_image)"
      ],
      "metadata": {
        "id": "LmHlb0xdCCKo"
      },
      "execution_count": null,
      "outputs": []
    },
    {
      "cell_type": "code",
      "source": [
        "resized_image.shape"
      ],
      "metadata": {
        "id": "NIoKlJ2iCDJ2"
      },
      "execution_count": null,
      "outputs": []
    },
    {
      "cell_type": "markdown",
      "source": [
        "###**Flipping an Image**\n",
        "Flipping the image is equivalent to flipping the image array itself."
      ],
      "metadata": {
        "id": "U5WNyJGkCTbo"
      }
    },
    {
      "cell_type": "code",
      "source": [
        "flipped_image = np.flip(image, axis=0)\n",
        "\n",
        "disp(flipped_image)"
      ],
      "metadata": {
        "id": "5bEAo-XZCNXb"
      },
      "execution_count": null,
      "outputs": []
    },
    {
      "cell_type": "markdown",
      "source": [
        "### **Having seen a lot of the work being done already, its now the time to test yourself out!**\n",
        "### **EXERCISE-3**\n",
        "Calculate the **number of pixels** having **green intensity > blue intensity**."
      ],
      "metadata": {
        "id": "3rK0MiZhC4Er"
      }
    },
    {
      "cell_type": "code",
      "source": [
        "# CODE HERE"
      ],
      "metadata": {
        "id": "K4eS_QS9DOkx"
      },
      "execution_count": null,
      "outputs": []
    },
    {
      "cell_type": "markdown",
      "source": [
        "### **EXERCISE-4**\n",
        "Calculate the **coordinates**[(height, width)] of the **Brightest Red Pixel** in the image.<br>Hint: Use np.unravel_index() and np.argmax() for a single line code."
      ],
      "metadata": {
        "id": "ZKVEipJfDUOw"
      }
    },
    {
      "cell_type": "code",
      "source": [
        "# CODE HERE"
      ],
      "metadata": {
        "id": "LIkkjOFrDhGu"
      },
      "execution_count": null,
      "outputs": []
    },
    {
      "cell_type": "markdown",
      "source": [
        "### **EXERCISE-5**\n",
        "Find the **Average value** of the **Red, Green** and **Blue** Channels in the image"
      ],
      "metadata": {
        "id": "dYc6XYZHDpUA"
      }
    },
    {
      "cell_type": "code",
      "source": [
        "# CODE HERE"
      ],
      "metadata": {
        "id": "oZ8JgEfTD7Ca"
      },
      "execution_count": null,
      "outputs": []
    }
  ]
}